{
  "nbformat": 4,
  "nbformat_minor": 0,
  "metadata": {
    "colab": {
      "provenance": [],
      "authorship_tag": "ABX9TyPpcicX9vMddwYzPXkyKtaU",
      "include_colab_link": true
    },
    "kernelspec": {
      "name": "python3",
      "display_name": "Python 3"
    },
    "language_info": {
      "name": "python"
    }
  },
  "cells": [
    {
      "cell_type": "markdown",
      "metadata": {
        "id": "view-in-github",
        "colab_type": "text"
      },
      "source": [
        "<a href=\"https://colab.research.google.com/github/fabizap/Olist/blob/main/BASES%207%20Y%208%20DE%20FABIAN.ipynb\" target=\"_parent\"><img src=\"https://colab.research.google.com/assets/colab-badge.svg\" alt=\"Open In Colab\"/></a>"
      ]
    },
    {
      "cell_type": "markdown",
      "source": [],
      "metadata": {
        "id": "TAOXX8xUgERc"
      }
    },
    {
      "cell_type": "markdown",
      "source": [
        "# SEPTIMA DATAFRAME: PRODUCTS.\n",
        "---\n",
        "VARIABLES:\n",
        "\n",
        ">product_id: unique product identifier\n",
        "\n",
        ">product_category_name: root category of product, in Portuguese.\n",
        "\n",
        ">product_name_lenght: number of characters extracted from the product name.\n",
        "\n",
        ">product_description_lenght: number of characters extracted from the product description.\n",
        "\n",
        ">product_photos_qty: number of product published photos\n",
        "\n",
        ">product_weight_g: product weight measured in grams.\n",
        "\n",
        ">product_length_cm: product length measured in centimeters.\n",
        "\n",
        ">product_height_cm: product height measured in centimeters.\n",
        "\n",
        ">product_width_cm: product width measured in centimeters.\n",
        "\n",
        "\n",
        "\n",
        "---\n",
        "\n"
      ],
      "metadata": {
        "id": "0brOb9AKZndQ"
      }
    },
    {
      "cell_type": "code",
      "source": [],
      "metadata": {
        "id": "X7bVxSaCgGvT"
      },
      "execution_count": null,
      "outputs": []
    },
    {
      "cell_type": "code",
      "source": [
        "url7='https://raw.githubusercontent.com/fabizap/Olist/main/olist_products_dataset.csv'\n",
        "df7=pd.read_csv(url7)\n",
        "df7.head(10)"
      ],
      "metadata": {
        "colab": {
          "base_uri": "https://localhost:8080/",
          "height": 185
        },
        "id": "J2WkEomMYvj_",
        "outputId": "415551bd-a266-4a86-ac39-2f74b0537f82"
      },
      "execution_count": 2,
      "outputs": [
        {
          "output_type": "error",
          "ename": "NameError",
          "evalue": "name 'pd' is not defined",
          "traceback": [
            "\u001b[0;31m---------------------------------------------------------------------------\u001b[0m",
            "\u001b[0;31mNameError\u001b[0m                                 Traceback (most recent call last)",
            "\u001b[0;32m<ipython-input-2-8263a6e93eaa>\u001b[0m in \u001b[0;36m<cell line: 2>\u001b[0;34m()\u001b[0m\n\u001b[1;32m      1\u001b[0m \u001b[0murl7\u001b[0m\u001b[0;34m=\u001b[0m\u001b[0;34m'https://raw.githubusercontent.com/fabizap/Olist/main/olist_products_dataset.csv'\u001b[0m\u001b[0;34m\u001b[0m\u001b[0;34m\u001b[0m\u001b[0m\n\u001b[0;32m----> 2\u001b[0;31m \u001b[0mdf7\u001b[0m\u001b[0;34m=\u001b[0m\u001b[0mpd\u001b[0m\u001b[0;34m.\u001b[0m\u001b[0mread_csv\u001b[0m\u001b[0;34m(\u001b[0m\u001b[0murl7\u001b[0m\u001b[0;34m)\u001b[0m\u001b[0;34m\u001b[0m\u001b[0;34m\u001b[0m\u001b[0m\n\u001b[0m\u001b[1;32m      3\u001b[0m \u001b[0mdf7\u001b[0m\u001b[0;34m.\u001b[0m\u001b[0mhead\u001b[0m\u001b[0;34m(\u001b[0m\u001b[0;36m10\u001b[0m\u001b[0;34m)\u001b[0m\u001b[0;34m\u001b[0m\u001b[0;34m\u001b[0m\u001b[0m\n",
            "\u001b[0;31mNameError\u001b[0m: name 'pd' is not defined"
          ]
        }
      ]
    }
  ]
}