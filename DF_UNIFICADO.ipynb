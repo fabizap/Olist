{
  "nbformat": 4,
  "nbformat_minor": 0,
  "metadata": {
    "colab": {
      "provenance": [],
      "toc_visible": true,
      "authorship_tag": "ABX9TyMdiVGKCVdC2agCLHh7JOJw",
      "include_colab_link": true
    },
    "kernelspec": {
      "name": "python3",
      "display_name": "Python 3"
    },
    "language_info": {
      "name": "python"
    }
  },
  "cells": [
    {
      "cell_type": "markdown",
      "metadata": {
        "id": "view-in-github",
        "colab_type": "text"
      },
      "source": [
        "<a href=\"https://colab.research.google.com/github/fabizap/Olist/blob/main/DF_UNIFICADO.ipynb\" target=\"_parent\"><img src=\"https://colab.research.google.com/assets/colab-badge.svg\" alt=\"Open In Colab\"/></a>"
      ]
    },
    {
      "cell_type": "code",
      "source": [],
      "metadata": {
        "id": "P44SqraQp07G"
      },
      "execution_count": null,
      "outputs": []
    },
    {
      "cell_type": "markdown",
      "source": [
        "#LAS LIBRERIAS"
      ],
      "metadata": {
        "id": "7sPvQFZwhsFI"
      }
    },
    {
      "cell_type": "code",
      "source": [
        "import numpy as np\n",
        "import pandas as pd\n",
        "import matplotlib.pyplot as plt\n",
        "import seaborn as sns"
      ],
      "metadata": {
        "id": "Sa4C9ekLOp7Q"
      },
      "execution_count": null,
      "outputs": []
    },
    {
      "cell_type": "markdown",
      "source": [
        "# DF DESDE GITHUB"
      ],
      "metadata": {
        "id": "QTCUCBMvh0jL"
      }
    },
    {
      "cell_type": "code",
      "source": [
        "\n",
        "# https://raw.githubusercontent.com/fabizap/Olist/main/olist_customers_dataset.csv\n",
        "# https://raw.githubusercontent.com/fabizap/Olist/main/olist_order_items_dataset.csv\n",
        "# https://raw.githubusercontent.com/fabizap/Olist/main/olist_order_payments_dataset.csv\n",
        "# https://raw.githubusercontent.com/fabizap/Olist/main/olist_order_reviews_dataset.csv\n",
        "# https://raw.githubusercontent.com/fabizap/Olist/main/olist_orders_dataset.csv\n",
        "# https://raw.githubusercontent.com/fabizap/Olist/main/olist_products_dataset.csv\n",
        "# https://raw.githubusercontent.com/fabizap/Olist/main/olist_sellers_dataset.csv\n",
        "# https://raw.githubusercontent.com/fabizap/Olist/main/product_category_name_translation.csv\n",
        "\n",
        "#CTRL + K + C\\U COMENTA\\DESCOMENTA TODO EL BLOQUE"
      ],
      "metadata": {
        "id": "zuK4ibBHp4-T"
      },
      "execution_count": null,
      "outputs": []
    },
    {
      "cell_type": "markdown",
      "source": [
        "## customers_dataset.csv\n",
        "\n"
      ],
      "metadata": {
        "id": "TDP3ak02jH0O"
      }
    },
    {
      "cell_type": "markdown",
      "source": [],
      "metadata": {
        "id": "gnxThH5ojHwz"
      }
    },
    {
      "cell_type": "code",
      "source": [
        "url1='https://raw.githubusercontent.com/fabizap/Olist/main/olist_customers_dataset.csv'\n",
        "df1=pd.read_csv(url1)\n",
        "df1.head()"
      ],
      "metadata": {
        "id": "TsmQNBAkrbIf"
      },
      "execution_count": null,
      "outputs": []
    },
    {
      "cell_type": "markdown",
      "source": [
        "## order_items_dataset.csv\n"
      ],
      "metadata": {
        "id": "GnHtEfYaj0ZN"
      }
    },
    {
      "cell_type": "code",
      "source": [
        "url2='https://raw.githubusercontent.com/fabizap/Olist/main/olist_order_items_dataset.csv'\n",
        "df2=pd.read_csv(url2)\n",
        "df2.head()"
      ],
      "metadata": {
        "id": "OZaD8IcMrwJ_"
      },
      "execution_count": null,
      "outputs": []
    },
    {
      "cell_type": "markdown",
      "source": [
        "## order_payments_dataset.csv\n"
      ],
      "metadata": {
        "id": "6tSMARCrj4oy"
      }
    },
    {
      "cell_type": "code",
      "source": [
        "url3='https://raw.githubusercontent.com/fabizap/Olist/main/olist_order_payments_dataset.csv'\n",
        "df3=pd.read_csv(url3)\n",
        "df3.head()"
      ],
      "metadata": {
        "id": "EQKsdtCdr3SB"
      },
      "execution_count": null,
      "outputs": []
    },
    {
      "cell_type": "markdown",
      "source": [
        "## order_reviews_dataset.csv\n"
      ],
      "metadata": {
        "id": "S-OjVaSej8Sf"
      }
    },
    {
      "cell_type": "code",
      "source": [
        "url4='https://raw.githubusercontent.com/fabizap/Olist/main/olist_order_reviews_dataset.csv'\n",
        "df4=pd.read_csv(url4)\n",
        "df4.head()"
      ],
      "metadata": {
        "id": "KEyF_nWDr7VC"
      },
      "execution_count": null,
      "outputs": []
    },
    {
      "cell_type": "markdown",
      "source": [
        "## orders_dataset.csv\n"
      ],
      "metadata": {
        "id": "vpRlIUCCj_Bt"
      }
    },
    {
      "cell_type": "code",
      "source": [
        "url5='https://raw.githubusercontent.com/fabizap/Olist/main/olist_orders_dataset.csv'\n",
        "df5=pd.read_csv(url5)\n",
        "df5.head()"
      ],
      "metadata": {
        "id": "hsSLO9Gxr-nS"
      },
      "execution_count": null,
      "outputs": []
    },
    {
      "cell_type": "markdown",
      "source": [
        "## products_dataset.csv"
      ],
      "metadata": {
        "id": "RjfXEKKGkEND"
      }
    },
    {
      "cell_type": "code",
      "source": [
        "url6='https://raw.githubusercontent.com/fabizap/Olist/main/olist_products_dataset.csv'\n",
        "df6=pd.read_csv(url6)\n",
        "df6.head()"
      ],
      "metadata": {
        "id": "fM4pemd3tRse"
      },
      "execution_count": null,
      "outputs": []
    },
    {
      "cell_type": "markdown",
      "source": [
        "## sellers_dataset.csv"
      ],
      "metadata": {
        "id": "OdJb96YZkHcJ"
      }
    },
    {
      "cell_type": "code",
      "source": [
        "url7='https://raw.githubusercontent.com/fabizap/Olist/main/olist_sellers_dataset.csv'\n",
        "df7=pd.read_csv(url7)\n",
        "df7.head()"
      ],
      "metadata": {
        "id": "MciPgvSzsBB0"
      },
      "execution_count": null,
      "outputs": []
    },
    {
      "cell_type": "markdown",
      "source": [
        "## product_category_name_translation.csv"
      ],
      "metadata": {
        "id": "jN9_oAXlkKNo"
      }
    },
    {
      "cell_type": "code",
      "source": [
        "url8='https://raw.githubusercontent.com/fabizap/Olist/main/product_category_name_translation.csv'\n",
        "df8=pd.read_csv(url8)\n",
        "df8.head()"
      ],
      "metadata": {
        "id": "ohRgkxJUsA_L"
      },
      "execution_count": null,
      "outputs": []
    },
    {
      "cell_type": "markdown",
      "source": [
        "BUSCANDO QUE TIENEN EN COMUN LAS BASES"
      ],
      "metadata": {
        "id": "nNt7xT_eq7an"
      }
    },
    {
      "cell_type": "code",
      "source": [
        "# Supongamos que tienes 8 DataFrames llamados df1, df2, ..., df8\n",
        "\n",
        "#dataframes = [df1, df6, df7, df8]\n",
        "#dataframes = [df1, df6]\n",
        "#dataframes = [df1, df7]\n",
        "#dataframes = [df1, df8]\n",
        "#dataframes = [df6, df7]\n",
        "#dataframes = [df6, df8] tienen en comun {'product_category_name'}\n",
        "#dataframes = [df7, df8]\n",
        "\n",
        "#dataframes = [df2, df3, df4, df5] tienen en comun {'order_id'}\n",
        "#dataframes = [df2, df7] tienen en comun seller_id\n",
        "\n",
        "#dataframes = [df1, df5] tienen en comun {'customer_id'}\n",
        "dataframes = [df1, df5]\n",
        "\n",
        "# Obtén los nombres de columnas de cada DataFrame\n",
        "\n",
        "column_names = [set(df.columns) for df in dataframes]\n",
        "print(column_names)\n",
        "# Encuentra las columnas comunes\n",
        "columnas_comunes = set.intersection(*column_names)\n",
        "\n",
        "print(\"Columnas comunes entre los 8 DataFrames:\")\n",
        "print(columnas_comunes)\n"
      ],
      "metadata": {
        "id": "99J3eaJJq69c"
      },
      "execution_count": null,
      "outputs": []
    },
    {
      "cell_type": "markdown",
      "source": [
        "# COMBINACIONES DE BASES (DataFrames)"
      ],
      "metadata": {
        "id": "eb7c-SPiOEt3"
      }
    },
    {
      "cell_type": "markdown",
      "source": [
        "## MERGE - Combinar DataFrames usando el método merge()"
      ],
      "metadata": {
        "id": "xgXO0-o-PMzw"
      }
    },
    {
      "cell_type": "markdown",
      "source": [
        "### CON (metodo?) how='outer' que incluye los NaN"
      ],
      "metadata": {
        "id": "qE6RoeBGSLz5"
      }
    },
    {
      "cell_type": "code",
      "source": [
        "# Combinar DataFrames usando el método merge()\n",
        "# df_merged = pd.merge(df2, df3, df4, df5, how='outer', on='order_id') #how='outer' incluye los NaN\n",
        "# df_merged.head()\n",
        "\n",
        "# Combinar DataFrames usando el método merge()\n",
        "\n",
        "df_merged = pd.merge(df2, df3, how='outer', on='order_id')\n",
        "df_merged = pd.merge(df_merged, df4, how='outer', on='order_id')\n",
        "df_merged = pd.merge(df_merged, df5, how='outer',on='order_id')\n",
        "df_merged.tail()"
      ],
      "metadata": {
        "colab": {
          "base_uri": "https://localhost:8080/",
          "height": 325
        },
        "id": "9oewMY7VuZ7v",
        "outputId": "f2c2e524-0068-4f22-88e9-99855728ed8b"
      },
      "execution_count": 204,
      "outputs": [
        {
          "output_type": "execute_result",
          "data": {
            "text/plain": [
              "                                order_id  order_item_id product_id seller_id  \\\n",
              "119138  fc20b8e282da6f3fbcdd3a3cedecb723            NaN        NaN       NaN   \n",
              "119139  92fca7ed7b7df4695007bd7f227e3333            NaN        NaN       NaN   \n",
              "119140  b17fd4c033b06e8d888de8ea6105ef9d            NaN        NaN       NaN   \n",
              "119141  974f9f87a3bad01b2ac72fe987505e9b            NaN        NaN       NaN   \n",
              "119142  7159096c5aa9be77f7f0c26c01ee9793            NaN        NaN       NaN   \n",
              "\n",
              "       shipping_limit_date  price  freight_value  payment_sequential  \\\n",
              "119138                 NaN    NaN            NaN                 1.0   \n",
              "119139                 NaN    NaN            NaN                 1.0   \n",
              "119140                 NaN    NaN            NaN                 1.0   \n",
              "119141                 NaN    NaN            NaN                 1.0   \n",
              "119142                 NaN    NaN            NaN                 1.0   \n",
              "\n",
              "       payment_type  payment_installments  ...  \\\n",
              "119138  credit_card                  10.0  ...   \n",
              "119139  credit_card                   1.0  ...   \n",
              "119140  credit_card                   5.0  ...   \n",
              "119141  credit_card                   3.0  ...   \n",
              "119142  credit_card                   4.0  ...   \n",
              "\n",
              "                                   review_comment_message  \\\n",
              "119138  Fiz a compra, o PAGAMENTO FOI CONFIRMADO e apó...   \n",
              "119139  Produto não entregue = consumidor insatisfeito...   \n",
              "119140                                                NaN   \n",
              "119141                                                NaN   \n",
              "119142  Preciso saber se existe um prazo para receber ...   \n",
              "\n",
              "       review_creation_date  review_answer_timestamp  \\\n",
              "119138  2017-03-23 00:00:00      2017-03-23 14:24:44   \n",
              "119139  2017-03-05 00:00:00      2017-03-05 15:32:04   \n",
              "119140  2017-04-14 00:00:00      2017-04-14 12:34:15   \n",
              "119141                  NaN                      NaN   \n",
              "119142  2018-04-08 00:00:00      2018-04-08 14:17:49   \n",
              "\n",
              "                             customer_id order_status  \\\n",
              "119138  58acc4e2788bf6fc445fddcce9c1db03  unavailable   \n",
              "119139  f489ef69fc07eee23f1ef2732df1c8f8  unavailable   \n",
              "119140  70457f70bccd93467cce328f6b3bb89a     canceled   \n",
              "119141  b8bd03cdd075b29c82a9c55e5cd8e224  unavailable   \n",
              "119142  d8f3aacf5cf5ddf9ceef4ad39e874c98     canceled   \n",
              "\n",
              "       order_purchase_timestamp    order_approved_at  \\\n",
              "119138      2017-03-01 10:02:02  2017-03-02 08:10:15   \n",
              "119139      2017-02-01 12:03:36  2017-02-01 12:15:56   \n",
              "119140      2017-03-20 19:38:10  2017-03-20 19:38:10   \n",
              "119141      2017-06-09 20:25:03  2017-06-09 20:35:17   \n",
              "119142      2018-03-15 10:06:35  2018-03-15 10:29:39   \n",
              "\n",
              "       order_delivered_carrier_date order_delivered_customer_date  \\\n",
              "119138                          NaN                           NaN   \n",
              "119139                          NaN                           NaN   \n",
              "119140                          NaN                           NaN   \n",
              "119141                          NaN                           NaN   \n",
              "119142                          NaN                           NaN   \n",
              "\n",
              "       order_estimated_delivery_date  \n",
              "119138           2017-03-20 00:00:00  \n",
              "119139           2017-03-03 00:00:00  \n",
              "119140           2017-04-12 00:00:00  \n",
              "119141           2017-08-01 00:00:00  \n",
              "119142           2018-04-06 00:00:00  \n",
              "\n",
              "[5 rows x 24 columns]"
            ],
            "text/html": [
              "\n",
              "  <div id=\"df-de0ee775-4ca7-4e37-9f33-6884a851c79a\" class=\"colab-df-container\">\n",
              "    <div>\n",
              "<style scoped>\n",
              "    .dataframe tbody tr th:only-of-type {\n",
              "        vertical-align: middle;\n",
              "    }\n",
              "\n",
              "    .dataframe tbody tr th {\n",
              "        vertical-align: top;\n",
              "    }\n",
              "\n",
              "    .dataframe thead th {\n",
              "        text-align: right;\n",
              "    }\n",
              "</style>\n",
              "<table border=\"1\" class=\"dataframe\">\n",
              "  <thead>\n",
              "    <tr style=\"text-align: right;\">\n",
              "      <th></th>\n",
              "      <th>order_id</th>\n",
              "      <th>order_item_id</th>\n",
              "      <th>product_id</th>\n",
              "      <th>seller_id</th>\n",
              "      <th>shipping_limit_date</th>\n",
              "      <th>price</th>\n",
              "      <th>freight_value</th>\n",
              "      <th>payment_sequential</th>\n",
              "      <th>payment_type</th>\n",
              "      <th>payment_installments</th>\n",
              "      <th>...</th>\n",
              "      <th>review_comment_message</th>\n",
              "      <th>review_creation_date</th>\n",
              "      <th>review_answer_timestamp</th>\n",
              "      <th>customer_id</th>\n",
              "      <th>order_status</th>\n",
              "      <th>order_purchase_timestamp</th>\n",
              "      <th>order_approved_at</th>\n",
              "      <th>order_delivered_carrier_date</th>\n",
              "      <th>order_delivered_customer_date</th>\n",
              "      <th>order_estimated_delivery_date</th>\n",
              "    </tr>\n",
              "  </thead>\n",
              "  <tbody>\n",
              "    <tr>\n",
              "      <th>119138</th>\n",
              "      <td>fc20b8e282da6f3fbcdd3a3cedecb723</td>\n",
              "      <td>NaN</td>\n",
              "      <td>NaN</td>\n",
              "      <td>NaN</td>\n",
              "      <td>NaN</td>\n",
              "      <td>NaN</td>\n",
              "      <td>NaN</td>\n",
              "      <td>1.0</td>\n",
              "      <td>credit_card</td>\n",
              "      <td>10.0</td>\n",
              "      <td>...</td>\n",
              "      <td>Fiz a compra, o PAGAMENTO FOI CONFIRMADO e apó...</td>\n",
              "      <td>2017-03-23 00:00:00</td>\n",
              "      <td>2017-03-23 14:24:44</td>\n",
              "      <td>58acc4e2788bf6fc445fddcce9c1db03</td>\n",
              "      <td>unavailable</td>\n",
              "      <td>2017-03-01 10:02:02</td>\n",
              "      <td>2017-03-02 08:10:15</td>\n",
              "      <td>NaN</td>\n",
              "      <td>NaN</td>\n",
              "      <td>2017-03-20 00:00:00</td>\n",
              "    </tr>\n",
              "    <tr>\n",
              "      <th>119139</th>\n",
              "      <td>92fca7ed7b7df4695007bd7f227e3333</td>\n",
              "      <td>NaN</td>\n",
              "      <td>NaN</td>\n",
              "      <td>NaN</td>\n",
              "      <td>NaN</td>\n",
              "      <td>NaN</td>\n",
              "      <td>NaN</td>\n",
              "      <td>1.0</td>\n",
              "      <td>credit_card</td>\n",
              "      <td>1.0</td>\n",
              "      <td>...</td>\n",
              "      <td>Produto não entregue = consumidor insatisfeito...</td>\n",
              "      <td>2017-03-05 00:00:00</td>\n",
              "      <td>2017-03-05 15:32:04</td>\n",
              "      <td>f489ef69fc07eee23f1ef2732df1c8f8</td>\n",
              "      <td>unavailable</td>\n",
              "      <td>2017-02-01 12:03:36</td>\n",
              "      <td>2017-02-01 12:15:56</td>\n",
              "      <td>NaN</td>\n",
              "      <td>NaN</td>\n",
              "      <td>2017-03-03 00:00:00</td>\n",
              "    </tr>\n",
              "    <tr>\n",
              "      <th>119140</th>\n",
              "      <td>b17fd4c033b06e8d888de8ea6105ef9d</td>\n",
              "      <td>NaN</td>\n",
              "      <td>NaN</td>\n",
              "      <td>NaN</td>\n",
              "      <td>NaN</td>\n",
              "      <td>NaN</td>\n",
              "      <td>NaN</td>\n",
              "      <td>1.0</td>\n",
              "      <td>credit_card</td>\n",
              "      <td>5.0</td>\n",
              "      <td>...</td>\n",
              "      <td>NaN</td>\n",
              "      <td>2017-04-14 00:00:00</td>\n",
              "      <td>2017-04-14 12:34:15</td>\n",
              "      <td>70457f70bccd93467cce328f6b3bb89a</td>\n",
              "      <td>canceled</td>\n",
              "      <td>2017-03-20 19:38:10</td>\n",
              "      <td>2017-03-20 19:38:10</td>\n",
              "      <td>NaN</td>\n",
              "      <td>NaN</td>\n",
              "      <td>2017-04-12 00:00:00</td>\n",
              "    </tr>\n",
              "    <tr>\n",
              "      <th>119141</th>\n",
              "      <td>974f9f87a3bad01b2ac72fe987505e9b</td>\n",
              "      <td>NaN</td>\n",
              "      <td>NaN</td>\n",
              "      <td>NaN</td>\n",
              "      <td>NaN</td>\n",
              "      <td>NaN</td>\n",
              "      <td>NaN</td>\n",
              "      <td>1.0</td>\n",
              "      <td>credit_card</td>\n",
              "      <td>3.0</td>\n",
              "      <td>...</td>\n",
              "      <td>NaN</td>\n",
              "      <td>NaN</td>\n",
              "      <td>NaN</td>\n",
              "      <td>b8bd03cdd075b29c82a9c55e5cd8e224</td>\n",
              "      <td>unavailable</td>\n",
              "      <td>2017-06-09 20:25:03</td>\n",
              "      <td>2017-06-09 20:35:17</td>\n",
              "      <td>NaN</td>\n",
              "      <td>NaN</td>\n",
              "      <td>2017-08-01 00:00:00</td>\n",
              "    </tr>\n",
              "    <tr>\n",
              "      <th>119142</th>\n",
              "      <td>7159096c5aa9be77f7f0c26c01ee9793</td>\n",
              "      <td>NaN</td>\n",
              "      <td>NaN</td>\n",
              "      <td>NaN</td>\n",
              "      <td>NaN</td>\n",
              "      <td>NaN</td>\n",
              "      <td>NaN</td>\n",
              "      <td>1.0</td>\n",
              "      <td>credit_card</td>\n",
              "      <td>4.0</td>\n",
              "      <td>...</td>\n",
              "      <td>Preciso saber se existe um prazo para receber ...</td>\n",
              "      <td>2018-04-08 00:00:00</td>\n",
              "      <td>2018-04-08 14:17:49</td>\n",
              "      <td>d8f3aacf5cf5ddf9ceef4ad39e874c98</td>\n",
              "      <td>canceled</td>\n",
              "      <td>2018-03-15 10:06:35</td>\n",
              "      <td>2018-03-15 10:29:39</td>\n",
              "      <td>NaN</td>\n",
              "      <td>NaN</td>\n",
              "      <td>2018-04-06 00:00:00</td>\n",
              "    </tr>\n",
              "  </tbody>\n",
              "</table>\n",
              "<p>5 rows × 24 columns</p>\n",
              "</div>\n",
              "    <div class=\"colab-df-buttons\">\n",
              "\n",
              "  <div class=\"colab-df-container\">\n",
              "    <button class=\"colab-df-convert\" onclick=\"convertToInteractive('df-de0ee775-4ca7-4e37-9f33-6884a851c79a')\"\n",
              "            title=\"Convert this dataframe to an interactive table.\"\n",
              "            style=\"display:none;\">\n",
              "\n",
              "  <svg xmlns=\"http://www.w3.org/2000/svg\" height=\"24px\" viewBox=\"0 -960 960 960\">\n",
              "    <path d=\"M120-120v-720h720v720H120Zm60-500h600v-160H180v160Zm220 220h160v-160H400v160Zm0 220h160v-160H400v160ZM180-400h160v-160H180v160Zm440 0h160v-160H620v160ZM180-180h160v-160H180v160Zm440 0h160v-160H620v160Z\"/>\n",
              "  </svg>\n",
              "    </button>\n",
              "\n",
              "  <style>\n",
              "    .colab-df-container {\n",
              "      display:flex;\n",
              "      gap: 12px;\n",
              "    }\n",
              "\n",
              "    .colab-df-convert {\n",
              "      background-color: #E8F0FE;\n",
              "      border: none;\n",
              "      border-radius: 50%;\n",
              "      cursor: pointer;\n",
              "      display: none;\n",
              "      fill: #1967D2;\n",
              "      height: 32px;\n",
              "      padding: 0 0 0 0;\n",
              "      width: 32px;\n",
              "    }\n",
              "\n",
              "    .colab-df-convert:hover {\n",
              "      background-color: #E2EBFA;\n",
              "      box-shadow: 0px 1px 2px rgba(60, 64, 67, 0.3), 0px 1px 3px 1px rgba(60, 64, 67, 0.15);\n",
              "      fill: #174EA6;\n",
              "    }\n",
              "\n",
              "    .colab-df-buttons div {\n",
              "      margin-bottom: 4px;\n",
              "    }\n",
              "\n",
              "    [theme=dark] .colab-df-convert {\n",
              "      background-color: #3B4455;\n",
              "      fill: #D2E3FC;\n",
              "    }\n",
              "\n",
              "    [theme=dark] .colab-df-convert:hover {\n",
              "      background-color: #434B5C;\n",
              "      box-shadow: 0px 1px 3px 1px rgba(0, 0, 0, 0.15);\n",
              "      filter: drop-shadow(0px 1px 2px rgba(0, 0, 0, 0.3));\n",
              "      fill: #FFFFFF;\n",
              "    }\n",
              "  </style>\n",
              "\n",
              "    <script>\n",
              "      const buttonEl =\n",
              "        document.querySelector('#df-de0ee775-4ca7-4e37-9f33-6884a851c79a button.colab-df-convert');\n",
              "      buttonEl.style.display =\n",
              "        google.colab.kernel.accessAllowed ? 'block' : 'none';\n",
              "\n",
              "      async function convertToInteractive(key) {\n",
              "        const element = document.querySelector('#df-de0ee775-4ca7-4e37-9f33-6884a851c79a');\n",
              "        const dataTable =\n",
              "          await google.colab.kernel.invokeFunction('convertToInteractive',\n",
              "                                                    [key], {});\n",
              "        if (!dataTable) return;\n",
              "\n",
              "        const docLinkHtml = 'Like what you see? Visit the ' +\n",
              "          '<a target=\"_blank\" href=https://colab.research.google.com/notebooks/data_table.ipynb>data table notebook</a>'\n",
              "          + ' to learn more about interactive tables.';\n",
              "        element.innerHTML = '';\n",
              "        dataTable['output_type'] = 'display_data';\n",
              "        await google.colab.output.renderOutput(dataTable, element);\n",
              "        const docLink = document.createElement('div');\n",
              "        docLink.innerHTML = docLinkHtml;\n",
              "        element.appendChild(docLink);\n",
              "      }\n",
              "    </script>\n",
              "  </div>\n",
              "\n",
              "\n",
              "<div id=\"df-245f762c-3b43-44b7-b10b-94c053f369f5\">\n",
              "  <button class=\"colab-df-quickchart\" onclick=\"quickchart('df-245f762c-3b43-44b7-b10b-94c053f369f5')\"\n",
              "            title=\"Suggest charts\"\n",
              "            style=\"display:none;\">\n",
              "\n",
              "<svg xmlns=\"http://www.w3.org/2000/svg\" height=\"24px\"viewBox=\"0 0 24 24\"\n",
              "     width=\"24px\">\n",
              "    <g>\n",
              "        <path d=\"M19 3H5c-1.1 0-2 .9-2 2v14c0 1.1.9 2 2 2h14c1.1 0 2-.9 2-2V5c0-1.1-.9-2-2-2zM9 17H7v-7h2v7zm4 0h-2V7h2v10zm4 0h-2v-4h2v4z\"/>\n",
              "    </g>\n",
              "</svg>\n",
              "  </button>\n",
              "\n",
              "<style>\n",
              "  .colab-df-quickchart {\n",
              "      --bg-color: #E8F0FE;\n",
              "      --fill-color: #1967D2;\n",
              "      --hover-bg-color: #E2EBFA;\n",
              "      --hover-fill-color: #174EA6;\n",
              "      --disabled-fill-color: #AAA;\n",
              "      --disabled-bg-color: #DDD;\n",
              "  }\n",
              "\n",
              "  [theme=dark] .colab-df-quickchart {\n",
              "      --bg-color: #3B4455;\n",
              "      --fill-color: #D2E3FC;\n",
              "      --hover-bg-color: #434B5C;\n",
              "      --hover-fill-color: #FFFFFF;\n",
              "      --disabled-bg-color: #3B4455;\n",
              "      --disabled-fill-color: #666;\n",
              "  }\n",
              "\n",
              "  .colab-df-quickchart {\n",
              "    background-color: var(--bg-color);\n",
              "    border: none;\n",
              "    border-radius: 50%;\n",
              "    cursor: pointer;\n",
              "    display: none;\n",
              "    fill: var(--fill-color);\n",
              "    height: 32px;\n",
              "    padding: 0;\n",
              "    width: 32px;\n",
              "  }\n",
              "\n",
              "  .colab-df-quickchart:hover {\n",
              "    background-color: var(--hover-bg-color);\n",
              "    box-shadow: 0 1px 2px rgba(60, 64, 67, 0.3), 0 1px 3px 1px rgba(60, 64, 67, 0.15);\n",
              "    fill: var(--button-hover-fill-color);\n",
              "  }\n",
              "\n",
              "  .colab-df-quickchart-complete:disabled,\n",
              "  .colab-df-quickchart-complete:disabled:hover {\n",
              "    background-color: var(--disabled-bg-color);\n",
              "    fill: var(--disabled-fill-color);\n",
              "    box-shadow: none;\n",
              "  }\n",
              "\n",
              "  .colab-df-spinner {\n",
              "    border: 2px solid var(--fill-color);\n",
              "    border-color: transparent;\n",
              "    border-bottom-color: var(--fill-color);\n",
              "    animation:\n",
              "      spin 1s steps(1) infinite;\n",
              "  }\n",
              "\n",
              "  @keyframes spin {\n",
              "    0% {\n",
              "      border-color: transparent;\n",
              "      border-bottom-color: var(--fill-color);\n",
              "      border-left-color: var(--fill-color);\n",
              "    }\n",
              "    20% {\n",
              "      border-color: transparent;\n",
              "      border-left-color: var(--fill-color);\n",
              "      border-top-color: var(--fill-color);\n",
              "    }\n",
              "    30% {\n",
              "      border-color: transparent;\n",
              "      border-left-color: var(--fill-color);\n",
              "      border-top-color: var(--fill-color);\n",
              "      border-right-color: var(--fill-color);\n",
              "    }\n",
              "    40% {\n",
              "      border-color: transparent;\n",
              "      border-right-color: var(--fill-color);\n",
              "      border-top-color: var(--fill-color);\n",
              "    }\n",
              "    60% {\n",
              "      border-color: transparent;\n",
              "      border-right-color: var(--fill-color);\n",
              "    }\n",
              "    80% {\n",
              "      border-color: transparent;\n",
              "      border-right-color: var(--fill-color);\n",
              "      border-bottom-color: var(--fill-color);\n",
              "    }\n",
              "    90% {\n",
              "      border-color: transparent;\n",
              "      border-bottom-color: var(--fill-color);\n",
              "    }\n",
              "  }\n",
              "</style>\n",
              "\n",
              "  <script>\n",
              "    async function quickchart(key) {\n",
              "      const quickchartButtonEl =\n",
              "        document.querySelector('#' + key + ' button');\n",
              "      quickchartButtonEl.disabled = true;  // To prevent multiple clicks.\n",
              "      quickchartButtonEl.classList.add('colab-df-spinner');\n",
              "      try {\n",
              "        const charts = await google.colab.kernel.invokeFunction(\n",
              "            'suggestCharts', [key], {});\n",
              "      } catch (error) {\n",
              "        console.error('Error during call to suggestCharts:', error);\n",
              "      }\n",
              "      quickchartButtonEl.classList.remove('colab-df-spinner');\n",
              "      quickchartButtonEl.classList.add('colab-df-quickchart-complete');\n",
              "    }\n",
              "    (() => {\n",
              "      let quickchartButtonEl =\n",
              "        document.querySelector('#df-245f762c-3b43-44b7-b10b-94c053f369f5 button');\n",
              "      quickchartButtonEl.style.display =\n",
              "        google.colab.kernel.accessAllowed ? 'block' : 'none';\n",
              "    })();\n",
              "  </script>\n",
              "</div>\n",
              "\n",
              "    </div>\n",
              "  </div>\n"
            ],
            "application/vnd.google.colaboratory.intrinsic+json": {
              "type": "dataframe"
            }
          },
          "metadata": {},
          "execution_count": 204
        }
      ]
    },
    {
      "cell_type": "code",
      "source": [
        "df_merged.columns"
      ],
      "metadata": {
        "id": "7NeY1bfLLN6c"
      },
      "execution_count": null,
      "outputs": []
    },
    {
      "cell_type": "code",
      "source": [
        "df_merged.shape"
      ],
      "metadata": {
        "id": "hnTdCRK0LSZD"
      },
      "execution_count": null,
      "outputs": []
    },
    {
      "cell_type": "code",
      "source": [
        "df_merged.info()"
      ],
      "metadata": {
        "id": "LFfNvetFLNod"
      },
      "execution_count": null,
      "outputs": []
    },
    {
      "cell_type": "code",
      "source": [
        "df_merged.duplicated().count()"
      ],
      "metadata": {
        "id": "GGqrZZTnM6n1"
      },
      "execution_count": null,
      "outputs": []
    },
    {
      "cell_type": "code",
      "source": [
        "df_merged.duplicated().sum() #por que difiere del count de arriba?"
      ],
      "metadata": {
        "id": "k0W91Te3M9e_"
      },
      "execution_count": null,
      "outputs": []
    },
    {
      "cell_type": "code",
      "source": [
        "df_merged.isnull().count()"
      ],
      "metadata": {
        "id": "FaAR6RdTNCZo"
      },
      "execution_count": null,
      "outputs": []
    },
    {
      "cell_type": "code",
      "source": [
        "df_merged.isnull().sum()"
      ],
      "metadata": {
        "id": "zyMr2k0INHTn"
      },
      "execution_count": null,
      "outputs": []
    },
    {
      "cell_type": "code",
      "source": [
        "df_merged.describe()"
      ],
      "metadata": {
        "id": "deMCNfTWNOUI"
      },
      "execution_count": null,
      "outputs": []
    },
    {
      "cell_type": "code",
      "source": [
        "df_merged.describe(include='object')"
      ],
      "metadata": {
        "id": "uxqiaxjUNOR4"
      },
      "execution_count": null,
      "outputs": []
    },
    {
      "cell_type": "markdown",
      "source": [
        "### SIN INCLUIR NaN"
      ],
      "metadata": {
        "id": "gGIZMCsGSpJz"
      }
    },
    {
      "cell_type": "code",
      "source": [
        "df_merged_Sin_Nan = pd.merge(df2, df3, on='order_id')\n",
        "df_merged_Sin_Nan = pd.merge(df_merged_Sin_Nan, df4, on='order_id')\n",
        "df_merged_Sin_Nan = pd.merge(df_merged_Sin_Nan, df5, on='order_id')\n",
        "df_merged_Sin_Nan.tail()\n",
        "\n"
      ],
      "metadata": {
        "id": "822TFEQpNw-S",
        "outputId": "54b20355-9da0-476b-e4da-e7cd794b19f7",
        "colab": {
          "base_uri": "https://localhost:8080/",
          "height": 273
        }
      },
      "execution_count": 205,
      "outputs": [
        {
          "output_type": "execute_result",
          "data": {
            "text/plain": [
              "                                order_id  order_item_id  \\\n",
              "117324  fffc94f6ce00a00581880bf54a75a037              1   \n",
              "117325  fffcd46ef2263f404302a634eb57f7eb              1   \n",
              "117326  fffce4705a9662cd70adb13d4a31832d              1   \n",
              "117327  fffe18544ffabc95dfada21779c9644f              1   \n",
              "117328  fffe41c64501cc87c801fd61db3f6244              1   \n",
              "\n",
              "                              product_id                         seller_id  \\\n",
              "117324  4aa6014eceb682077f9dc4bffebc05b0  b8bc237ba3788b23da09c0f1f3a3288c   \n",
              "117325  32e07fd915822b0765e448c4dd74c828  f3c38ab652836d21de61fb8314b69182   \n",
              "117326  72a30483855e2eafc67aee5dc2560482  c3cfdc648177fdbbbb35635a37472c53   \n",
              "117327  9c422a519119dcad7575db5af1ba540e  2b3e4a2a3ea8e01938cabda2a3e5cc79   \n",
              "117328  350688d9dc1e75ff97be326363655e01  f7ccf836d21b2fb1de37564105216cc1   \n",
              "\n",
              "        shipping_limit_date   price  freight_value  payment_sequential  \\\n",
              "117324  2018-05-02 04:11:01  299.99          43.41                   1   \n",
              "117325  2018-07-20 04:31:48  350.00          36.53                   1   \n",
              "117326  2017-10-30 17:14:25   99.90          16.95                   1   \n",
              "117327  2017-08-21 00:04:32   55.99           8.72                   1   \n",
              "117328  2018-06-12 17:10:13   43.00          12.79                   1   \n",
              "\n",
              "       payment_type  payment_installments  ...  \\\n",
              "117324       boleto                     1  ...   \n",
              "117325       boleto                     1  ...   \n",
              "117326  credit_card                     3  ...   \n",
              "117327  credit_card                     3  ...   \n",
              "117328  credit_card                     1  ...   \n",
              "\n",
              "                                 review_comment_message review_creation_date  \\\n",
              "117324                                              NaN  2018-05-11 00:00:00   \n",
              "117325                                              NaN  2018-07-24 00:00:00   \n",
              "117326                                              NaN  2017-10-29 00:00:00   \n",
              "117327  Recebi o produto antes do prazo e corretamente.  2017-08-17 00:00:00   \n",
              "117328                                              NaN  2018-06-15 00:00:00   \n",
              "\n",
              "        review_answer_timestamp                       customer_id  \\\n",
              "117324      2018-05-14 12:53:47  b51593916b4b8e0d6f66f2ae24f2673d   \n",
              "117325      2018-07-25 09:25:29  84c5d4fbaf120aae381fad077416eaa0   \n",
              "117326      2017-10-29 21:33:52  29309aa813182aaddc9b259e31b870e6   \n",
              "117327      2017-08-18 12:24:05  b5e6afd5a41800fdf401e0272ca74655   \n",
              "117328      2018-06-17 21:27:09  96d649da0cc4ff33bb408b199d4c7dcf   \n",
              "\n",
              "       order_status order_purchase_timestamp    order_approved_at  \\\n",
              "117324    delivered      2018-04-23 13:57:06  2018-04-25 04:11:01   \n",
              "117325    delivered      2018-07-14 10:26:46  2018-07-17 04:31:48   \n",
              "117326    delivered      2017-10-23 17:07:56  2017-10-24 17:14:25   \n",
              "117327    delivered      2017-08-14 23:02:59  2017-08-15 00:04:32   \n",
              "117328    delivered      2018-06-09 17:00:18  2018-06-09 17:10:13   \n",
              "\n",
              "       order_delivered_carrier_date order_delivered_customer_date  \\\n",
              "117324          2018-04-25 12:09:00           2018-05-10 22:56:40   \n",
              "117325          2018-07-17 08:05:00           2018-07-23 20:31:55   \n",
              "117326          2017-10-26 15:13:14           2017-10-28 12:22:22   \n",
              "117327          2017-08-15 19:02:53           2017-08-16 21:59:40   \n",
              "117328          2018-06-11 14:11:00           2018-06-14 17:56:26   \n",
              "\n",
              "       order_estimated_delivery_date  \n",
              "117324           2018-05-18 00:00:00  \n",
              "117325           2018-08-01 00:00:00  \n",
              "117326           2017-11-10 00:00:00  \n",
              "117327           2017-08-25 00:00:00  \n",
              "117328           2018-06-28 00:00:00  \n",
              "\n",
              "[5 rows x 24 columns]"
            ],
            "text/html": [
              "\n",
              "  <div id=\"df-8276f5e3-639d-4e95-8fd8-793a1c552632\" class=\"colab-df-container\">\n",
              "    <div>\n",
              "<style scoped>\n",
              "    .dataframe tbody tr th:only-of-type {\n",
              "        vertical-align: middle;\n",
              "    }\n",
              "\n",
              "    .dataframe tbody tr th {\n",
              "        vertical-align: top;\n",
              "    }\n",
              "\n",
              "    .dataframe thead th {\n",
              "        text-align: right;\n",
              "    }\n",
              "</style>\n",
              "<table border=\"1\" class=\"dataframe\">\n",
              "  <thead>\n",
              "    <tr style=\"text-align: right;\">\n",
              "      <th></th>\n",
              "      <th>order_id</th>\n",
              "      <th>order_item_id</th>\n",
              "      <th>product_id</th>\n",
              "      <th>seller_id</th>\n",
              "      <th>shipping_limit_date</th>\n",
              "      <th>price</th>\n",
              "      <th>freight_value</th>\n",
              "      <th>payment_sequential</th>\n",
              "      <th>payment_type</th>\n",
              "      <th>payment_installments</th>\n",
              "      <th>...</th>\n",
              "      <th>review_comment_message</th>\n",
              "      <th>review_creation_date</th>\n",
              "      <th>review_answer_timestamp</th>\n",
              "      <th>customer_id</th>\n",
              "      <th>order_status</th>\n",
              "      <th>order_purchase_timestamp</th>\n",
              "      <th>order_approved_at</th>\n",
              "      <th>order_delivered_carrier_date</th>\n",
              "      <th>order_delivered_customer_date</th>\n",
              "      <th>order_estimated_delivery_date</th>\n",
              "    </tr>\n",
              "  </thead>\n",
              "  <tbody>\n",
              "    <tr>\n",
              "      <th>117324</th>\n",
              "      <td>fffc94f6ce00a00581880bf54a75a037</td>\n",
              "      <td>1</td>\n",
              "      <td>4aa6014eceb682077f9dc4bffebc05b0</td>\n",
              "      <td>b8bc237ba3788b23da09c0f1f3a3288c</td>\n",
              "      <td>2018-05-02 04:11:01</td>\n",
              "      <td>299.99</td>\n",
              "      <td>43.41</td>\n",
              "      <td>1</td>\n",
              "      <td>boleto</td>\n",
              "      <td>1</td>\n",
              "      <td>...</td>\n",
              "      <td>NaN</td>\n",
              "      <td>2018-05-11 00:00:00</td>\n",
              "      <td>2018-05-14 12:53:47</td>\n",
              "      <td>b51593916b4b8e0d6f66f2ae24f2673d</td>\n",
              "      <td>delivered</td>\n",
              "      <td>2018-04-23 13:57:06</td>\n",
              "      <td>2018-04-25 04:11:01</td>\n",
              "      <td>2018-04-25 12:09:00</td>\n",
              "      <td>2018-05-10 22:56:40</td>\n",
              "      <td>2018-05-18 00:00:00</td>\n",
              "    </tr>\n",
              "    <tr>\n",
              "      <th>117325</th>\n",
              "      <td>fffcd46ef2263f404302a634eb57f7eb</td>\n",
              "      <td>1</td>\n",
              "      <td>32e07fd915822b0765e448c4dd74c828</td>\n",
              "      <td>f3c38ab652836d21de61fb8314b69182</td>\n",
              "      <td>2018-07-20 04:31:48</td>\n",
              "      <td>350.00</td>\n",
              "      <td>36.53</td>\n",
              "      <td>1</td>\n",
              "      <td>boleto</td>\n",
              "      <td>1</td>\n",
              "      <td>...</td>\n",
              "      <td>NaN</td>\n",
              "      <td>2018-07-24 00:00:00</td>\n",
              "      <td>2018-07-25 09:25:29</td>\n",
              "      <td>84c5d4fbaf120aae381fad077416eaa0</td>\n",
              "      <td>delivered</td>\n",
              "      <td>2018-07-14 10:26:46</td>\n",
              "      <td>2018-07-17 04:31:48</td>\n",
              "      <td>2018-07-17 08:05:00</td>\n",
              "      <td>2018-07-23 20:31:55</td>\n",
              "      <td>2018-08-01 00:00:00</td>\n",
              "    </tr>\n",
              "    <tr>\n",
              "      <th>117326</th>\n",
              "      <td>fffce4705a9662cd70adb13d4a31832d</td>\n",
              "      <td>1</td>\n",
              "      <td>72a30483855e2eafc67aee5dc2560482</td>\n",
              "      <td>c3cfdc648177fdbbbb35635a37472c53</td>\n",
              "      <td>2017-10-30 17:14:25</td>\n",
              "      <td>99.90</td>\n",
              "      <td>16.95</td>\n",
              "      <td>1</td>\n",
              "      <td>credit_card</td>\n",
              "      <td>3</td>\n",
              "      <td>...</td>\n",
              "      <td>NaN</td>\n",
              "      <td>2017-10-29 00:00:00</td>\n",
              "      <td>2017-10-29 21:33:52</td>\n",
              "      <td>29309aa813182aaddc9b259e31b870e6</td>\n",
              "      <td>delivered</td>\n",
              "      <td>2017-10-23 17:07:56</td>\n",
              "      <td>2017-10-24 17:14:25</td>\n",
              "      <td>2017-10-26 15:13:14</td>\n",
              "      <td>2017-10-28 12:22:22</td>\n",
              "      <td>2017-11-10 00:00:00</td>\n",
              "    </tr>\n",
              "    <tr>\n",
              "      <th>117327</th>\n",
              "      <td>fffe18544ffabc95dfada21779c9644f</td>\n",
              "      <td>1</td>\n",
              "      <td>9c422a519119dcad7575db5af1ba540e</td>\n",
              "      <td>2b3e4a2a3ea8e01938cabda2a3e5cc79</td>\n",
              "      <td>2017-08-21 00:04:32</td>\n",
              "      <td>55.99</td>\n",
              "      <td>8.72</td>\n",
              "      <td>1</td>\n",
              "      <td>credit_card</td>\n",
              "      <td>3</td>\n",
              "      <td>...</td>\n",
              "      <td>Recebi o produto antes do prazo e corretamente.</td>\n",
              "      <td>2017-08-17 00:00:00</td>\n",
              "      <td>2017-08-18 12:24:05</td>\n",
              "      <td>b5e6afd5a41800fdf401e0272ca74655</td>\n",
              "      <td>delivered</td>\n",
              "      <td>2017-08-14 23:02:59</td>\n",
              "      <td>2017-08-15 00:04:32</td>\n",
              "      <td>2017-08-15 19:02:53</td>\n",
              "      <td>2017-08-16 21:59:40</td>\n",
              "      <td>2017-08-25 00:00:00</td>\n",
              "    </tr>\n",
              "    <tr>\n",
              "      <th>117328</th>\n",
              "      <td>fffe41c64501cc87c801fd61db3f6244</td>\n",
              "      <td>1</td>\n",
              "      <td>350688d9dc1e75ff97be326363655e01</td>\n",
              "      <td>f7ccf836d21b2fb1de37564105216cc1</td>\n",
              "      <td>2018-06-12 17:10:13</td>\n",
              "      <td>43.00</td>\n",
              "      <td>12.79</td>\n",
              "      <td>1</td>\n",
              "      <td>credit_card</td>\n",
              "      <td>1</td>\n",
              "      <td>...</td>\n",
              "      <td>NaN</td>\n",
              "      <td>2018-06-15 00:00:00</td>\n",
              "      <td>2018-06-17 21:27:09</td>\n",
              "      <td>96d649da0cc4ff33bb408b199d4c7dcf</td>\n",
              "      <td>delivered</td>\n",
              "      <td>2018-06-09 17:00:18</td>\n",
              "      <td>2018-06-09 17:10:13</td>\n",
              "      <td>2018-06-11 14:11:00</td>\n",
              "      <td>2018-06-14 17:56:26</td>\n",
              "      <td>2018-06-28 00:00:00</td>\n",
              "    </tr>\n",
              "  </tbody>\n",
              "</table>\n",
              "<p>5 rows × 24 columns</p>\n",
              "</div>\n",
              "    <div class=\"colab-df-buttons\">\n",
              "\n",
              "  <div class=\"colab-df-container\">\n",
              "    <button class=\"colab-df-convert\" onclick=\"convertToInteractive('df-8276f5e3-639d-4e95-8fd8-793a1c552632')\"\n",
              "            title=\"Convert this dataframe to an interactive table.\"\n",
              "            style=\"display:none;\">\n",
              "\n",
              "  <svg xmlns=\"http://www.w3.org/2000/svg\" height=\"24px\" viewBox=\"0 -960 960 960\">\n",
              "    <path d=\"M120-120v-720h720v720H120Zm60-500h600v-160H180v160Zm220 220h160v-160H400v160Zm0 220h160v-160H400v160ZM180-400h160v-160H180v160Zm440 0h160v-160H620v160ZM180-180h160v-160H180v160Zm440 0h160v-160H620v160Z\"/>\n",
              "  </svg>\n",
              "    </button>\n",
              "\n",
              "  <style>\n",
              "    .colab-df-container {\n",
              "      display:flex;\n",
              "      gap: 12px;\n",
              "    }\n",
              "\n",
              "    .colab-df-convert {\n",
              "      background-color: #E8F0FE;\n",
              "      border: none;\n",
              "      border-radius: 50%;\n",
              "      cursor: pointer;\n",
              "      display: none;\n",
              "      fill: #1967D2;\n",
              "      height: 32px;\n",
              "      padding: 0 0 0 0;\n",
              "      width: 32px;\n",
              "    }\n",
              "\n",
              "    .colab-df-convert:hover {\n",
              "      background-color: #E2EBFA;\n",
              "      box-shadow: 0px 1px 2px rgba(60, 64, 67, 0.3), 0px 1px 3px 1px rgba(60, 64, 67, 0.15);\n",
              "      fill: #174EA6;\n",
              "    }\n",
              "\n",
              "    .colab-df-buttons div {\n",
              "      margin-bottom: 4px;\n",
              "    }\n",
              "\n",
              "    [theme=dark] .colab-df-convert {\n",
              "      background-color: #3B4455;\n",
              "      fill: #D2E3FC;\n",
              "    }\n",
              "\n",
              "    [theme=dark] .colab-df-convert:hover {\n",
              "      background-color: #434B5C;\n",
              "      box-shadow: 0px 1px 3px 1px rgba(0, 0, 0, 0.15);\n",
              "      filter: drop-shadow(0px 1px 2px rgba(0, 0, 0, 0.3));\n",
              "      fill: #FFFFFF;\n",
              "    }\n",
              "  </style>\n",
              "\n",
              "    <script>\n",
              "      const buttonEl =\n",
              "        document.querySelector('#df-8276f5e3-639d-4e95-8fd8-793a1c552632 button.colab-df-convert');\n",
              "      buttonEl.style.display =\n",
              "        google.colab.kernel.accessAllowed ? 'block' : 'none';\n",
              "\n",
              "      async function convertToInteractive(key) {\n",
              "        const element = document.querySelector('#df-8276f5e3-639d-4e95-8fd8-793a1c552632');\n",
              "        const dataTable =\n",
              "          await google.colab.kernel.invokeFunction('convertToInteractive',\n",
              "                                                    [key], {});\n",
              "        if (!dataTable) return;\n",
              "\n",
              "        const docLinkHtml = 'Like what you see? Visit the ' +\n",
              "          '<a target=\"_blank\" href=https://colab.research.google.com/notebooks/data_table.ipynb>data table notebook</a>'\n",
              "          + ' to learn more about interactive tables.';\n",
              "        element.innerHTML = '';\n",
              "        dataTable['output_type'] = 'display_data';\n",
              "        await google.colab.output.renderOutput(dataTable, element);\n",
              "        const docLink = document.createElement('div');\n",
              "        docLink.innerHTML = docLinkHtml;\n",
              "        element.appendChild(docLink);\n",
              "      }\n",
              "    </script>\n",
              "  </div>\n",
              "\n",
              "\n",
              "<div id=\"df-bf66638a-a052-4e0c-a355-0f2ef19017c3\">\n",
              "  <button class=\"colab-df-quickchart\" onclick=\"quickchart('df-bf66638a-a052-4e0c-a355-0f2ef19017c3')\"\n",
              "            title=\"Suggest charts\"\n",
              "            style=\"display:none;\">\n",
              "\n",
              "<svg xmlns=\"http://www.w3.org/2000/svg\" height=\"24px\"viewBox=\"0 0 24 24\"\n",
              "     width=\"24px\">\n",
              "    <g>\n",
              "        <path d=\"M19 3H5c-1.1 0-2 .9-2 2v14c0 1.1.9 2 2 2h14c1.1 0 2-.9 2-2V5c0-1.1-.9-2-2-2zM9 17H7v-7h2v7zm4 0h-2V7h2v10zm4 0h-2v-4h2v4z\"/>\n",
              "    </g>\n",
              "</svg>\n",
              "  </button>\n",
              "\n",
              "<style>\n",
              "  .colab-df-quickchart {\n",
              "      --bg-color: #E8F0FE;\n",
              "      --fill-color: #1967D2;\n",
              "      --hover-bg-color: #E2EBFA;\n",
              "      --hover-fill-color: #174EA6;\n",
              "      --disabled-fill-color: #AAA;\n",
              "      --disabled-bg-color: #DDD;\n",
              "  }\n",
              "\n",
              "  [theme=dark] .colab-df-quickchart {\n",
              "      --bg-color: #3B4455;\n",
              "      --fill-color: #D2E3FC;\n",
              "      --hover-bg-color: #434B5C;\n",
              "      --hover-fill-color: #FFFFFF;\n",
              "      --disabled-bg-color: #3B4455;\n",
              "      --disabled-fill-color: #666;\n",
              "  }\n",
              "\n",
              "  .colab-df-quickchart {\n",
              "    background-color: var(--bg-color);\n",
              "    border: none;\n",
              "    border-radius: 50%;\n",
              "    cursor: pointer;\n",
              "    display: none;\n",
              "    fill: var(--fill-color);\n",
              "    height: 32px;\n",
              "    padding: 0;\n",
              "    width: 32px;\n",
              "  }\n",
              "\n",
              "  .colab-df-quickchart:hover {\n",
              "    background-color: var(--hover-bg-color);\n",
              "    box-shadow: 0 1px 2px rgba(60, 64, 67, 0.3), 0 1px 3px 1px rgba(60, 64, 67, 0.15);\n",
              "    fill: var(--button-hover-fill-color);\n",
              "  }\n",
              "\n",
              "  .colab-df-quickchart-complete:disabled,\n",
              "  .colab-df-quickchart-complete:disabled:hover {\n",
              "    background-color: var(--disabled-bg-color);\n",
              "    fill: var(--disabled-fill-color);\n",
              "    box-shadow: none;\n",
              "  }\n",
              "\n",
              "  .colab-df-spinner {\n",
              "    border: 2px solid var(--fill-color);\n",
              "    border-color: transparent;\n",
              "    border-bottom-color: var(--fill-color);\n",
              "    animation:\n",
              "      spin 1s steps(1) infinite;\n",
              "  }\n",
              "\n",
              "  @keyframes spin {\n",
              "    0% {\n",
              "      border-color: transparent;\n",
              "      border-bottom-color: var(--fill-color);\n",
              "      border-left-color: var(--fill-color);\n",
              "    }\n",
              "    20% {\n",
              "      border-color: transparent;\n",
              "      border-left-color: var(--fill-color);\n",
              "      border-top-color: var(--fill-color);\n",
              "    }\n",
              "    30% {\n",
              "      border-color: transparent;\n",
              "      border-left-color: var(--fill-color);\n",
              "      border-top-color: var(--fill-color);\n",
              "      border-right-color: var(--fill-color);\n",
              "    }\n",
              "    40% {\n",
              "      border-color: transparent;\n",
              "      border-right-color: var(--fill-color);\n",
              "      border-top-color: var(--fill-color);\n",
              "    }\n",
              "    60% {\n",
              "      border-color: transparent;\n",
              "      border-right-color: var(--fill-color);\n",
              "    }\n",
              "    80% {\n",
              "      border-color: transparent;\n",
              "      border-right-color: var(--fill-color);\n",
              "      border-bottom-color: var(--fill-color);\n",
              "    }\n",
              "    90% {\n",
              "      border-color: transparent;\n",
              "      border-bottom-color: var(--fill-color);\n",
              "    }\n",
              "  }\n",
              "</style>\n",
              "\n",
              "  <script>\n",
              "    async function quickchart(key) {\n",
              "      const quickchartButtonEl =\n",
              "        document.querySelector('#' + key + ' button');\n",
              "      quickchartButtonEl.disabled = true;  // To prevent multiple clicks.\n",
              "      quickchartButtonEl.classList.add('colab-df-spinner');\n",
              "      try {\n",
              "        const charts = await google.colab.kernel.invokeFunction(\n",
              "            'suggestCharts', [key], {});\n",
              "      } catch (error) {\n",
              "        console.error('Error during call to suggestCharts:', error);\n",
              "      }\n",
              "      quickchartButtonEl.classList.remove('colab-df-spinner');\n",
              "      quickchartButtonEl.classList.add('colab-df-quickchart-complete');\n",
              "    }\n",
              "    (() => {\n",
              "      let quickchartButtonEl =\n",
              "        document.querySelector('#df-bf66638a-a052-4e0c-a355-0f2ef19017c3 button');\n",
              "      quickchartButtonEl.style.display =\n",
              "        google.colab.kernel.accessAllowed ? 'block' : 'none';\n",
              "    })();\n",
              "  </script>\n",
              "</div>\n",
              "\n",
              "    </div>\n",
              "  </div>\n"
            ],
            "application/vnd.google.colaboratory.intrinsic+json": {
              "type": "dataframe"
            }
          },
          "metadata": {},
          "execution_count": 205
        }
      ]
    },
    {
      "cell_type": "code",
      "source": [
        "df_merged_Sin_Nan.columns"
      ],
      "metadata": {
        "id": "60RpYqD9NwnK"
      },
      "execution_count": null,
      "outputs": []
    },
    {
      "cell_type": "code",
      "source": [
        "df_merged_Sin_Nan.shape"
      ],
      "metadata": {
        "id": "ouqddiBDU1AT"
      },
      "execution_count": null,
      "outputs": []
    },
    {
      "cell_type": "code",
      "source": [
        "df_merged_Sin_Nan.info()"
      ],
      "metadata": {
        "id": "ykMB6R07U099"
      },
      "execution_count": null,
      "outputs": []
    },
    {
      "cell_type": "code",
      "source": [
        "df_merged_Sin_Nan.duplicated().count()"
      ],
      "metadata": {
        "id": "Rl4iiP9dU072"
      },
      "execution_count": null,
      "outputs": []
    },
    {
      "cell_type": "code",
      "source": [
        "df_merged_Sin_Nan.duplicated().sum() #por que difiere del count de arriba?"
      ],
      "metadata": {
        "id": "iwuwPvMwU05L"
      },
      "execution_count": null,
      "outputs": []
    },
    {
      "cell_type": "code",
      "source": [
        "df_merged_Sin_Nan.isnull().count()"
      ],
      "metadata": {
        "id": "GGhApCEsU005"
      },
      "execution_count": null,
      "outputs": []
    },
    {
      "cell_type": "code",
      "source": [
        "df_merged_Sin_Nan.isnull().sum()"
      ],
      "metadata": {
        "id": "P_s4JeLGU0xT"
      },
      "execution_count": null,
      "outputs": []
    },
    {
      "cell_type": "code",
      "source": [
        "df_merged_Sin_Nan.describe()"
      ],
      "metadata": {
        "id": "-cNR0UnGU0vc"
      },
      "execution_count": null,
      "outputs": []
    },
    {
      "cell_type": "code",
      "source": [
        "df_merged_Sin_Nan.describe(include='object')"
      ],
      "metadata": {
        "id": "pwGMxZ71U0tL"
      },
      "execution_count": null,
      "outputs": []
    },
    {
      "cell_type": "code",
      "source": [
        "df_merged_Sin_Nan.nunique()"
      ],
      "metadata": {
        "id": "lzrrDYoPV8ts"
      },
      "execution_count": null,
      "outputs": []
    },
    {
      "cell_type": "code",
      "source": [
        "df_merged_Sin_Nan.dtypes"
      ],
      "metadata": {
        "id": "HxRhjyWVV8rS"
      },
      "execution_count": null,
      "outputs": []
    },
    {
      "cell_type": "code",
      "source": [
        "df_merged_Sin_Nan.dtypes.value_counts()"
      ],
      "metadata": {
        "id": "LGoqsiJ4V8mN"
      },
      "execution_count": null,
      "outputs": []
    },
    {
      "cell_type": "code",
      "source": [
        "df_merged_Sin_Nan.columns"
      ],
      "metadata": {
        "id": "lo1VEEvhV8hs"
      },
      "execution_count": null,
      "outputs": []
    },
    {
      "cell_type": "code",
      "source": [
        "#df_merged_Sin_Nan.drop(['customer_zip_code_prefix'], axis=1, inplace=True)\n",
        "df_merged_Sin_Nan.head['customer_zip_code_prefix']"
      ],
      "metadata": {
        "id": "4XGAy7agXSkT"
      },
      "execution_count": null,
      "outputs": []
    },
    {
      "cell_type": "code",
      "source": [
        "df_merged_Sin_Nan.drop(['customer_zip_code_prefix'], axis=1, inplace=True)\n",
        "df_merged_Sin_Nan.head()"
      ],
      "metadata": {
        "id": "RESDuydFWecG"
      },
      "execution_count": null,
      "outputs": []
    },
    {
      "cell_type": "code",
      "source": [
        "df_merged_Sin_Nan.drop(['customer_zip_code_prefix'], axis=1, inplace=True)\n",
        "df_merged_Sin_Nan.head()"
      ],
      "metadata": {
        "id": "vR7d1DQVV8fZ",
        "outputId": "8aba314b-53e7-4024-a837-c313fc5a45d9",
        "colab": {
          "base_uri": "https://localhost:8080/",
          "height": 304
        }
      },
      "execution_count": 206,
      "outputs": [
        {
          "output_type": "error",
          "ename": "KeyError",
          "evalue": "\"['customer_zip_code_prefix'] not found in axis\"",
          "traceback": [
            "\u001b[0;31m---------------------------------------------------------------------------\u001b[0m",
            "\u001b[0;31mKeyError\u001b[0m                                  Traceback (most recent call last)",
            "\u001b[0;32m<ipython-input-206-cd5512c99244>\u001b[0m in \u001b[0;36m<cell line: 1>\u001b[0;34m()\u001b[0m\n\u001b[0;32m----> 1\u001b[0;31m \u001b[0mdf_merged_Sin_Nan\u001b[0m\u001b[0;34m.\u001b[0m\u001b[0mdrop\u001b[0m\u001b[0;34m(\u001b[0m\u001b[0;34m[\u001b[0m\u001b[0;34m'customer_zip_code_prefix'\u001b[0m\u001b[0;34m]\u001b[0m\u001b[0;34m,\u001b[0m \u001b[0maxis\u001b[0m\u001b[0;34m=\u001b[0m\u001b[0;36m1\u001b[0m\u001b[0;34m,\u001b[0m \u001b[0minplace\u001b[0m\u001b[0;34m=\u001b[0m\u001b[0;32mTrue\u001b[0m\u001b[0;34m)\u001b[0m\u001b[0;34m\u001b[0m\u001b[0;34m\u001b[0m\u001b[0m\n\u001b[0m\u001b[1;32m      2\u001b[0m \u001b[0mdf_merged_Sin_Nan\u001b[0m\u001b[0;34m.\u001b[0m\u001b[0mhead\u001b[0m\u001b[0;34m(\u001b[0m\u001b[0;34m)\u001b[0m\u001b[0;34m\u001b[0m\u001b[0;34m\u001b[0m\u001b[0m\n",
            "\u001b[0;32m/usr/local/lib/python3.10/dist-packages/pandas/core/frame.py\u001b[0m in \u001b[0;36mdrop\u001b[0;34m(self, labels, axis, index, columns, level, inplace, errors)\u001b[0m\n\u001b[1;32m   5256\u001b[0m                 \u001b[0mweight\u001b[0m  \u001b[0;36m1.0\u001b[0m     \u001b[0;36m0.8\u001b[0m\u001b[0;34m\u001b[0m\u001b[0;34m\u001b[0m\u001b[0m\n\u001b[1;32m   5257\u001b[0m         \"\"\"\n\u001b[0;32m-> 5258\u001b[0;31m         return super().drop(\n\u001b[0m\u001b[1;32m   5259\u001b[0m             \u001b[0mlabels\u001b[0m\u001b[0;34m=\u001b[0m\u001b[0mlabels\u001b[0m\u001b[0;34m,\u001b[0m\u001b[0;34m\u001b[0m\u001b[0;34m\u001b[0m\u001b[0m\n\u001b[1;32m   5260\u001b[0m             \u001b[0maxis\u001b[0m\u001b[0;34m=\u001b[0m\u001b[0maxis\u001b[0m\u001b[0;34m,\u001b[0m\u001b[0;34m\u001b[0m\u001b[0;34m\u001b[0m\u001b[0m\n",
            "\u001b[0;32m/usr/local/lib/python3.10/dist-packages/pandas/core/generic.py\u001b[0m in \u001b[0;36mdrop\u001b[0;34m(self, labels, axis, index, columns, level, inplace, errors)\u001b[0m\n\u001b[1;32m   4547\u001b[0m         \u001b[0;32mfor\u001b[0m \u001b[0maxis\u001b[0m\u001b[0;34m,\u001b[0m \u001b[0mlabels\u001b[0m \u001b[0;32min\u001b[0m \u001b[0maxes\u001b[0m\u001b[0;34m.\u001b[0m\u001b[0mitems\u001b[0m\u001b[0;34m(\u001b[0m\u001b[0;34m)\u001b[0m\u001b[0;34m:\u001b[0m\u001b[0;34m\u001b[0m\u001b[0;34m\u001b[0m\u001b[0m\n\u001b[1;32m   4548\u001b[0m             \u001b[0;32mif\u001b[0m \u001b[0mlabels\u001b[0m \u001b[0;32mis\u001b[0m \u001b[0;32mnot\u001b[0m \u001b[0;32mNone\u001b[0m\u001b[0;34m:\u001b[0m\u001b[0;34m\u001b[0m\u001b[0;34m\u001b[0m\u001b[0m\n\u001b[0;32m-> 4549\u001b[0;31m                 \u001b[0mobj\u001b[0m \u001b[0;34m=\u001b[0m \u001b[0mobj\u001b[0m\u001b[0;34m.\u001b[0m\u001b[0m_drop_axis\u001b[0m\u001b[0;34m(\u001b[0m\u001b[0mlabels\u001b[0m\u001b[0;34m,\u001b[0m \u001b[0maxis\u001b[0m\u001b[0;34m,\u001b[0m \u001b[0mlevel\u001b[0m\u001b[0;34m=\u001b[0m\u001b[0mlevel\u001b[0m\u001b[0;34m,\u001b[0m \u001b[0merrors\u001b[0m\u001b[0;34m=\u001b[0m\u001b[0merrors\u001b[0m\u001b[0;34m)\u001b[0m\u001b[0;34m\u001b[0m\u001b[0;34m\u001b[0m\u001b[0m\n\u001b[0m\u001b[1;32m   4550\u001b[0m \u001b[0;34m\u001b[0m\u001b[0m\n\u001b[1;32m   4551\u001b[0m         \u001b[0;32mif\u001b[0m \u001b[0minplace\u001b[0m\u001b[0;34m:\u001b[0m\u001b[0;34m\u001b[0m\u001b[0;34m\u001b[0m\u001b[0m\n",
            "\u001b[0;32m/usr/local/lib/python3.10/dist-packages/pandas/core/generic.py\u001b[0m in \u001b[0;36m_drop_axis\u001b[0;34m(self, labels, axis, level, errors, only_slice)\u001b[0m\n\u001b[1;32m   4589\u001b[0m                 \u001b[0mnew_axis\u001b[0m \u001b[0;34m=\u001b[0m \u001b[0maxis\u001b[0m\u001b[0;34m.\u001b[0m\u001b[0mdrop\u001b[0m\u001b[0;34m(\u001b[0m\u001b[0mlabels\u001b[0m\u001b[0;34m,\u001b[0m \u001b[0mlevel\u001b[0m\u001b[0;34m=\u001b[0m\u001b[0mlevel\u001b[0m\u001b[0;34m,\u001b[0m \u001b[0merrors\u001b[0m\u001b[0;34m=\u001b[0m\u001b[0merrors\u001b[0m\u001b[0;34m)\u001b[0m\u001b[0;34m\u001b[0m\u001b[0;34m\u001b[0m\u001b[0m\n\u001b[1;32m   4590\u001b[0m             \u001b[0;32melse\u001b[0m\u001b[0;34m:\u001b[0m\u001b[0;34m\u001b[0m\u001b[0;34m\u001b[0m\u001b[0m\n\u001b[0;32m-> 4591\u001b[0;31m                 \u001b[0mnew_axis\u001b[0m \u001b[0;34m=\u001b[0m \u001b[0maxis\u001b[0m\u001b[0;34m.\u001b[0m\u001b[0mdrop\u001b[0m\u001b[0;34m(\u001b[0m\u001b[0mlabels\u001b[0m\u001b[0;34m,\u001b[0m \u001b[0merrors\u001b[0m\u001b[0;34m=\u001b[0m\u001b[0merrors\u001b[0m\u001b[0;34m)\u001b[0m\u001b[0;34m\u001b[0m\u001b[0;34m\u001b[0m\u001b[0m\n\u001b[0m\u001b[1;32m   4592\u001b[0m             \u001b[0mindexer\u001b[0m \u001b[0;34m=\u001b[0m \u001b[0maxis\u001b[0m\u001b[0;34m.\u001b[0m\u001b[0mget_indexer\u001b[0m\u001b[0;34m(\u001b[0m\u001b[0mnew_axis\u001b[0m\u001b[0;34m)\u001b[0m\u001b[0;34m\u001b[0m\u001b[0;34m\u001b[0m\u001b[0m\n\u001b[1;32m   4593\u001b[0m \u001b[0;34m\u001b[0m\u001b[0m\n",
            "\u001b[0;32m/usr/local/lib/python3.10/dist-packages/pandas/core/indexes/base.py\u001b[0m in \u001b[0;36mdrop\u001b[0;34m(self, labels, errors)\u001b[0m\n\u001b[1;32m   6697\u001b[0m         \u001b[0;32mif\u001b[0m \u001b[0mmask\u001b[0m\u001b[0;34m.\u001b[0m\u001b[0many\u001b[0m\u001b[0;34m(\u001b[0m\u001b[0;34m)\u001b[0m\u001b[0;34m:\u001b[0m\u001b[0;34m\u001b[0m\u001b[0;34m\u001b[0m\u001b[0m\n\u001b[1;32m   6698\u001b[0m             \u001b[0;32mif\u001b[0m \u001b[0merrors\u001b[0m \u001b[0;34m!=\u001b[0m \u001b[0;34m\"ignore\"\u001b[0m\u001b[0;34m:\u001b[0m\u001b[0;34m\u001b[0m\u001b[0;34m\u001b[0m\u001b[0m\n\u001b[0;32m-> 6699\u001b[0;31m                 \u001b[0;32mraise\u001b[0m \u001b[0mKeyError\u001b[0m\u001b[0;34m(\u001b[0m\u001b[0;34mf\"{list(labels[mask])} not found in axis\"\u001b[0m\u001b[0;34m)\u001b[0m\u001b[0;34m\u001b[0m\u001b[0;34m\u001b[0m\u001b[0m\n\u001b[0m\u001b[1;32m   6700\u001b[0m             \u001b[0mindexer\u001b[0m \u001b[0;34m=\u001b[0m \u001b[0mindexer\u001b[0m\u001b[0;34m[\u001b[0m\u001b[0;34m~\u001b[0m\u001b[0mmask\u001b[0m\u001b[0;34m]\u001b[0m\u001b[0;34m\u001b[0m\u001b[0;34m\u001b[0m\u001b[0m\n\u001b[1;32m   6701\u001b[0m         \u001b[0;32mreturn\u001b[0m \u001b[0mself\u001b[0m\u001b[0;34m.\u001b[0m\u001b[0mdelete\u001b[0m\u001b[0;34m(\u001b[0m\u001b[0mindexer\u001b[0m\u001b[0;34m)\u001b[0m\u001b[0;34m\u001b[0m\u001b[0;34m\u001b[0m\u001b[0m\n",
            "\u001b[0;31mKeyError\u001b[0m: \"['customer_zip_code_prefix'] not found in axis\""
          ]
        }
      ]
    },
    {
      "cell_type": "code",
      "source": [
        "df"
      ],
      "metadata": {
        "id": "0TWBqadSV8dV"
      },
      "execution_count": null,
      "outputs": []
    },
    {
      "cell_type": "markdown",
      "source": [],
      "metadata": {
        "id": "JIA2JDEyNx5W"
      }
    },
    {
      "cell_type": "markdown",
      "source": [],
      "metadata": {
        "id": "cWDZ27fcNx3N"
      }
    },
    {
      "cell_type": "markdown",
      "source": [
        "##CONCAT - Combinar DataFrames usando el método (concat)"
      ],
      "metadata": {
        "id": "DZYpYw8LOvcC"
      }
    },
    {
      "cell_type": "code",
      "source": [],
      "metadata": {
        "id": "9TM6e37mOu9N"
      },
      "execution_count": null,
      "outputs": []
    },
    {
      "cell_type": "markdown",
      "source": [
        "### DF UNIFICADO"
      ],
      "metadata": {
        "id": "Ax3MtwN8kg2f"
      }
    },
    {
      "cell_type": "code",
      "source": [
        "df_u = pd.concat([df1, df2, df3, df4, df5, df6, df7, df8], ignore_index=True)\n",
        "df_u.head()\n",
        "#print(df_u)\n"
      ],
      "metadata": {
        "id": "4Vwz9bq9p4ty"
      },
      "execution_count": null,
      "outputs": []
    },
    {
      "cell_type": "code",
      "source": [
        "df_u.columns"
      ],
      "metadata": {
        "id": "R0GenU-e3ReH"
      },
      "execution_count": null,
      "outputs": []
    },
    {
      "cell_type": "code",
      "source": [
        "df_u.shape"
      ],
      "metadata": {
        "id": "JGcc0UXUp4pa"
      },
      "execution_count": null,
      "outputs": []
    },
    {
      "cell_type": "code",
      "source": [
        "df_u.info()"
      ],
      "metadata": {
        "id": "9f8lUs-7p4ey",
        "collapsed": true
      },
      "execution_count": null,
      "outputs": []
    },
    {
      "cell_type": "code",
      "source": [
        "df_u.duplicated().count()"
      ],
      "metadata": {
        "id": "WzkONYtF2Q7m"
      },
      "execution_count": null,
      "outputs": []
    },
    {
      "cell_type": "code",
      "source": [
        "df_u.duplicated().sum() #por que difiere del count de arriba?"
      ],
      "metadata": {
        "id": "4Nug9LC8r1wc"
      },
      "execution_count": null,
      "outputs": []
    },
    {
      "cell_type": "code",
      "source": [
        "df_u.isnull().count()"
      ],
      "metadata": {
        "id": "7qVivnKx48z6"
      },
      "execution_count": null,
      "outputs": []
    },
    {
      "cell_type": "code",
      "source": [
        "df_u.isnull().sum()"
      ],
      "metadata": {
        "id": "6WozK6Wf29KX",
        "collapsed": true
      },
      "execution_count": null,
      "outputs": []
    },
    {
      "cell_type": "code",
      "source": [
        "df_u.describe()"
      ],
      "metadata": {
        "id": "29kFccGg3Cr2",
        "collapsed": true
      },
      "execution_count": null,
      "outputs": []
    },
    {
      "cell_type": "code",
      "source": [
        "df_u.describe(include='object')"
      ],
      "metadata": {
        "id": "sJQOXbXX3Isf"
      },
      "execution_count": null,
      "outputs": []
    },
    {
      "cell_type": "code",
      "source": [
        "df_u.nunique()"
      ],
      "metadata": {
        "id": "XhQP2YXs3N9h",
        "collapsed": true
      },
      "execution_count": null,
      "outputs": []
    },
    {
      "cell_type": "code",
      "source": [
        "df_u.dtypes"
      ],
      "metadata": {
        "id": "tnlk81ox3Uiw"
      },
      "execution_count": null,
      "outputs": []
    },
    {
      "cell_type": "code",
      "source": [
        "df_u.dtypes.value_counts()"
      ],
      "metadata": {
        "id": "BsdZ3UbP3XxJ"
      },
      "execution_count": null,
      "outputs": []
    },
    {
      "cell_type": "code",
      "source": [
        "df_u.columns"
      ],
      "metadata": {
        "id": "LBhcFmWr3bCn"
      },
      "execution_count": null,
      "outputs": []
    },
    {
      "cell_type": "code",
      "source": [
        "# df_u.drop(['customer_zip_code_prefix'], axis=1, inplace=True)\n",
        "# df_u.head()"
      ],
      "metadata": {
        "id": "pg5AesDe3iNZ"
      },
      "execution_count": null,
      "outputs": []
    },
    {
      "cell_type": "code",
      "source": [
        "# Importar módulo sys para establecer ruta\n",
        "import sys\n",
        "!{sys.executable} -m pip install -U pandas-profiling[notebook]"
      ],
      "metadata": {
        "collapsed": true,
        "id": "quRWqUyA8UM5"
      },
      "execution_count": null,
      "outputs": []
    },
    {
      "cell_type": "code",
      "source": [
        "# Importar libreria\n",
        "import ydata_profiling as pp  #importamos el módulo y asigno alias\n",
        "from ydata_profiling import ProfileReport # importamo directamente la clase ProfileReport del módulo ydata_profiling - podremos utilizar ProfileReport directamente en el código sin necesidad de prefijar ydata_profiling o pp.\n"
      ],
      "metadata": {
        "id": "iafNF9Yo8oBS"
      },
      "execution_count": null,
      "outputs": []
    },
    {
      "cell_type": "code",
      "source": [
        "\n",
        "pp.ProfileReport(df_u)"
      ],
      "metadata": {
        "id": "pqJLNSQg8n_J"
      },
      "execution_count": null,
      "outputs": []
    }
  ]
}